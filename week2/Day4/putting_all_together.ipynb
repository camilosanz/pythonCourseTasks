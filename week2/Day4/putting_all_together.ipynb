{
 "cells": [
  {
   "cell_type": "markdown",
   "metadata": {},
   "source": [
    "**Problem:** \n",
    "\n",
    "We have an Rest API endpoint, we want our app to consume data from this endpoint\n",
    "and save the endpoint data in a file.\n",
    "\n",
    "The response must be saved in a new txt file following this structure\n",
    "\n",
    "output\n",
    "\n",
    "   * |___20220915\n",
    "\n",
    "      * |___log_20220915000000.txt\n",
    "   \n",
    "      * |___log_20220915080500.txt\n"
   ]
  },
  {
   "cell_type": "markdown",
   "metadata": {},
   "source": [
    "Mock your Rest API endpoint  https://beeceptor.com/\n",
    "\n",
    "Use this base URL https://demo-api.free.beeceptor.com\n",
    "\n",
    "send requests, for example\n",
    "\n",
    "curl -v -X GET 'https://demo-api.free.beeceptor.com/my/api/path' -H 'some-header: some-value'"
   ]
  },
  {
   "cell_type": "markdown",
   "metadata": {},
   "source": [
    "Create a Python application\n",
    "\n",
    "1. Create a directory in your local machine named python-demo\n",
    "2. Create a simple console application."
   ]
  },
  {
   "cell_type": "markdown",
   "metadata": {},
   "source": [
    " **cd** /path/to/python-demo\n",
    "\n",
    " **pip3** install requests\n",
    "\n",
    " **pip3** freeze | grep requests >> requirements.txt\n",
    "\n",
    " **touch** app.py"
   ]
  },
  {
   "cell_type": "markdown",
   "metadata": {},
   "source": [
    "Steps 7, 8, 9 is student research \n",
    "\n",
    "5. Write your code\n",
    "6. Test your application\n",
    "7. Create a Dockerfile for Python\n",
    "8. Build and image\n",
    "9.  Run your image as container"
   ]
  }
 ],
 "metadata": {
  "kernelspec": {
   "display_name": "Python 3.10.6 64-bit",
   "language": "python",
   "name": "python3"
  },
  "language_info": {
   "codemirror_mode": {
    "name": "ipython",
    "version": 3
   },
   "file_extension": ".py",
   "mimetype": "text/x-python",
   "name": "python",
   "nbconvert_exporter": "python",
   "pygments_lexer": "ipython3",
   "version": "3.10.6"
  },
  "orig_nbformat": 4,
  "vscode": {
   "interpreter": {
    "hash": "369f2c481f4da34e4445cda3fffd2e751bd1c4d706f27375911949ba6bb62e1c"
   }
  }
 },
 "nbformat": 4,
 "nbformat_minor": 2
}
