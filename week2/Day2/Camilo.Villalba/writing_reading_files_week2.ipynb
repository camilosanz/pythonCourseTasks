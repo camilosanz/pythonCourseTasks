{
 "cells": [
  {
   "cell_type": "markdown",
   "metadata": {},
   "source": [
    "**Reading and Writing Files**"
   ]
  },
  {
   "cell_type": "markdown",
   "metadata": {},
   "source": [
    "**Problem:** We want to store data more permanently\n",
    "\n",
    "**Solution:**\n",
    "- Writing data to a file\n",
    "- Writing data to a database, reading data from a file"
   ]
  },
  {
   "cell_type": "markdown",
   "metadata": {},
   "source": [
    "**How to write to a file?**\n",
    "1. Open the file\n",
    "2. Write to the file\n",
    "3. Close the file\n"
   ]
  },
  {
   "cell_type": "code",
   "execution_count": 2,
   "metadata": {},
   "outputs": [],
   "source": [
    "## 1. Open file 'orders.xt' (at working directory) in write mode\n",
    "## on every excution file's content is going to change\n",
    "sales_log = open('orders.txt', 'w')\n",
    "## YOUR CODE GOES HERE\n",
    "sales_log.write('line 1')\n",
    "## close the file\n",
    "sales_log.close()"
   ]
  },
  {
   "cell_type": "code",
   "execution_count": 7,
   "metadata": {},
   "outputs": [],
   "source": [
    "## mode = 'a' (append new line)\n",
    "import random\n",
    "sales_log = open('orders.txt', 'a')\n",
    "\n",
    "numbers = random.sample(range(1,1000), 100)\n",
    "## concatenate new line to avoid text to appear in one line\n",
    "sales_log.write(f\"{str(numbers) }\\n\")\n",
    "sales_log.close()"
   ]
  },
  {
   "cell_type": "code",
   "execution_count": 11,
   "metadata": {},
   "outputs": [
    {
     "name": "stdout",
     "output_type": "stream",
     "text": [
      "filename log_93936286.txt\n"
     ]
    }
   ],
   "source": [
    "import random\n",
    "\n",
    "sufix_tokens = [ str (number) for number in random.sample(range(1, 1000), 3) ]\n",
    "filename = 'log_' + \"\".join(sufix_tokens) + '.txt'\n",
    "print('filename', filename)\n",
    "file = open(filename, 'a')\n",
    "\n",
    "# automatic close - to make sure archives flow \n",
    "# is being closed atomatically\n",
    "\n",
    "## with this flow to the archive referenced as 'file'\n",
    "##(temp variable)\n",
    "with open (filename, 'a') as file:\n",
    "    ## TO DO: do something with file\n",
    "    numbers = random.sample(range(1 , 1000), 100)\n",
    "    file.write(f\"{str(numbers)}\\n\")\n",
    "\n",
    "    ## TO DO: do something else\n"
   ]
  },
  {
   "cell_type": "code",
   "execution_count": 18,
   "metadata": {},
   "outputs": [
    {
     "name": "stdout",
     "output_type": "stream",
     "text": [
      "output exists already!\n"
     ]
    }
   ],
   "source": [
    "## write a new file into folder \"output\" under working directory\n",
    "import random\n",
    "import os ## Handles directory tree\n",
    "from pathlib import Path\n",
    "\n",
    "FOLDER_NAME = 'output'\n",
    "sufix_tokens = [ str (number) for number in random.sample(range(1, 1000), 3) ]\n",
    "filename = FOLDER_NAME + '/' + 'log_' + \"\".join(sufix_tokens) + '.txt' ##Improve thist\n",
    "\n",
    "## If folder doesn't exist this call will fail causing a program crash\n",
    "## As dev I need to make sure to create the folder trough the program\n",
    "## How?\n",
    "## mkdir will fail if folder exists\n",
    "obj = Path(FOLDER_NAME)\n",
    "if not obj.exists():\n",
    "    os.mkdir(FOLDER_NAME)\n",
    "    print(f'{FOLDER_NAME} created!')\n",
    "    file = open(filename, 'a')\n",
    "else:\n",
    "    print(f'{FOLDER_NAME} exists already!')\n"
   ]
  },
  {
   "cell_type": "markdown",
   "metadata": {},
   "source": [
    "**Writing data to a file**\n",
    "\n",
    "After we get a customer order, it would be great if we could record each sale to a sales.txt file\n",
    "- One single order comes in a dictionary of menu items and their price\n",
    "\n",
    "We are going to write each item and price on a separate line in a file and then the orders total"
   ]
  },
  {
   "cell_type": "code",
   "execution_count": 17,
   "metadata": {},
   "outputs": [],
   "source": [
    "def write_sales_log(order):\n",
    "    # open the file\n",
    "    with open ('sales.txt', 'w') as file:\n",
    "        total = 0\n",
    "    # write each item to the file\n",
    "        for item in order.items():\n",
    "            key, value = item\n",
    "            total = total + value\n",
    "            line = f\"{key} - $ {value}\\n\"\n",
    "            file.write(line)\n",
    "    # write the total to the file\n",
    "        line_total = f\"Total = $ {total}\"\n",
    "        file.write(line_total)\n",
    "    # close the file\n",
    "    file.close()\n",
    "    pass"
   ]
  },
  {
   "cell_type": "code",
   "execution_count": 18,
   "metadata": {},
   "outputs": [],
   "source": [
    "def main():\n",
    "    order =  {'order 1': 1.0, 'order 2': 2.5}\n",
    "    write_sales_log(order)\n",
    "main()\n",
    " "
   ]
  },
  {
   "cell_type": "code",
   "execution_count": 5,
   "metadata": {},
   "outputs": [],
   "source": [
    "# Now, we need to print the price as well\n",
    "def write_sales_log(order):\n",
    "    # open the file\n",
    "    with open ('sales.txt', 'w') as file:\n",
    "        total = 0\n",
    "    # write each item along the price (float with 2 decimal places) to the file: `abdef ###.##`\n",
    "        for item in order.items():\n",
    "                key, value = item\n",
    "                total = total + value\n",
    "                line = f\"{key} - $ {value}\\n\"\n",
    "                file.write(line)\n",
    "    # write the item total to the file `total = ###.##`\n",
    "        line_total = f\"Total = $ {total}\\n\"\n",
    "        file.write(line_total)\n",
    "    # close the file\n",
    "    file.close()\n",
    "    pass\n",
    "\n",
    "def main():\n",
    "    order =  {'order item 1': 1.0, 'order item 2': 2.5}\n",
    "    write_sales_log(order)\n",
    "    order =  {'order item 1': 6.0, 'order item 2': 21.5}\n",
    "    write_sales_log(order)\n",
    "main()"
   ]
  },
  {
   "cell_type": "code",
   "execution_count": 23,
   "metadata": {},
   "outputs": [],
   "source": [
    "## We don't want to ovewrite our file data each time\n",
    "## append data  to the end of the file instead\n",
    "def write_sales_log(order):\n",
    "    # open the file\n",
    "    with open ('sales.txt', 'a') as file:\n",
    "        total = 0\n",
    "    # write each item along the price (float with 2 decimal places) to the file: `abdef ###.##`\n",
    "        for item in order.items():\n",
    "                key, value = item\n",
    "                total = total + value\n",
    "                line = f\"{key} - $ {value}\\n\"\n",
    "                file.write(line)\n",
    "    # write the item total to the file `total = ###.##`\n",
    "        line_total = f\"Total = $ {total}\"\n",
    "        file.write(line_total)\n",
    "    # close the file\n",
    "    file.close()\n",
    "    pass\n",
    "\n",
    "def main():\n",
    "    order =  {'order item 1': 1.0, 'order item 2': 2.5}\n",
    "    write_sales_log(order)\n",
    "    order =  {'order item 1': 6.0, 'order item 2': 21.5}\n",
    "    write_sales_log(order)\n",
    "main()"
   ]
  },
  {
   "cell_type": "code",
   "execution_count": 6,
   "metadata": {},
   "outputs": [],
   "source": [
    "## After `total` is written, Add a new line to separate the orders better\n",
    "def write_sales_log(order):\n",
    "    # open the file\n",
    "    with open ('sales.txt', 'a') as file:\n",
    "        total = 0\n",
    "    # write each item along the price (float with 2 decimal places) to the file: `abdef ###.##`\n",
    "        for item in order.items():\n",
    "                key, value = item\n",
    "                total = total + value\n",
    "                line = f\"{key} - $ {value}\\n\"\n",
    "                file.write(line)\n",
    "    # write the item total to the file `total = ###.##`\n",
    "        line_total = f\"Total = $ {total}\\n\"\n",
    "        file.write(line_total)\n",
    "        # file.write= f\"{'-'*25}\\n\"\n",
    "    # close the file\n",
    "    file.close()\n",
    "    pass\n",
    "\n",
    "def main():\n",
    "    order =  {'order item 1': 1.0, 'order item 2': 2.5}\n",
    "    write_sales_log(order)\n",
    "    order =  {'order item 1': 6.0, 'order item 2': 21.5}\n",
    "    write_sales_log(order)\n",
    "main()"
   ]
  },
  {
   "cell_type": "markdown",
   "metadata": {},
   "source": [
    "**Writing the Circus Schedule**\n",
    "\n",
    "Whenever we update the schedule we'll write it to a file so that other programs, like the circus website, can use it. We want to take our performances dictionary and write each item into a schedule.txt file so the file looks like this:\n",
    "\n",
    "    Ventriloquism - 9:00am\n",
    "\n",
    "    Snake Charmer - 12:00pm\n",
    "\n",
    "    Amazing Acrobatics - 2:00pm\n",
    "\n",
    "    Enchanted Elephants - 5:00pm"
   ]
  },
  {
   "cell_type": "code",
   "execution_count": 26,
   "metadata": {},
   "outputs": [],
   "source": [
    "schedules = {\n",
    "    'Ventriloquism': '9:00am',\n",
    "    'Snake Charmer': '12:00pm',\n",
    "    'Amazing Acrobatics': '2:00pm',\n",
    "    'Enchanted Elephants': '5:00pm'\n",
    "}\n",
    "## First, we'll need to open our file using the open() function with the \n",
    "# file name schedule.txt and w for write. We'll also want to assign the \n",
    "# file to a variable called schedule_file.\n",
    "with open ('schedule.txt', 'w') as schedule_file:\n",
    "    ## Next, we need to write each item from the dictionary to the file. \n",
    "    # To do that, we'll create a for loop that loops over the dictionary's \n",
    "    # items(). We'll name the for loop variables key and val.\n",
    "    for schedule in schedules.items():\n",
    "        key, value = schedule\n",
    "        ## Inside our for loop we'll write to schedule_file using the \n",
    "        # .write() function. Then inside of that function we'll concatenate\n",
    "        # the key, then ' - ', and finally val to match our menu format.\n",
    "        # Don't forget to add a newline ' ' at the end of each line.\n",
    "        line = f\"{key} - {value}\\n\"\n",
    "        schedule_file.write(line)\n",
    "## Now that we're done writing our performance schedule to schedule_file, \n",
    "# we need to close it with .close().\n",
    "schedule_file.close()"
   ]
  },
  {
   "cell_type": "markdown",
   "metadata": {},
   "source": [
    "**Reading data from a file**\n",
    "\n",
    "**Problem:**\n",
    "- Everyday a boss sends a file of dollar menu items.\n",
    "- We want to read this file into a list so our program can use it\n",
    "\n",
    "**Solution:**\n",
    "- Open the file \n",
    "- Read from the file\n",
    "- Close the file"
   ]
  },
  {
   "cell_type": "code",
   "execution_count": 7,
   "metadata": {},
   "outputs": [
    {
     "name": "stdout",
     "output_type": "stream",
     "text": [
      "order item 1 - $ 6.0\n",
      "order item 2 - $ 21.5\n",
      "Total = $ 27.5\n",
      "order item 1 - $ 1.0\n",
      "order item 2 - $ 2.5\n",
      "Total = $ 3.5\n",
      "order item 1 - $ 6.0\n",
      "order item 2 - $ 21.5\n",
      "Total = $ 27.5\n",
      "\n"
     ]
    }
   ],
   "source": [
    "## Reading the entire file content at once\n",
    "dollar_spam = open('sales.txt', 'r')\n",
    "print(dollar_spam.read())\n",
    "dollar_spam.close()"
   ]
  },
  {
   "cell_type": "code",
   "execution_count": 8,
   "metadata": {},
   "outputs": [
    {
     "name": "stdout",
     "output_type": "stream",
     "text": [
      "1st line: order item 1 - $ 6.0\n",
      "\n",
      "2nd line: order item 2 - $ 21.5\n",
      "\n"
     ]
    }
   ],
   "source": [
    "## Reading an individual line from a file\n",
    "def read_dollar_menu():\n",
    "    dollar_spam = open('sales.txt', 'r')\n",
    "    print('1st line:', dollar_spam.readline())\n",
    "    print('2nd line:', dollar_spam.readline())\n",
    "    dollar_spam.close()\n",
    "\n",
    "def main():\n",
    "    read_dollar_menu()\n",
    "\n",
    "main()"
   ]
  },
  {
   "cell_type": "code",
   "execution_count": 18,
   "metadata": {},
   "outputs": [
    {
     "name": "stdout",
     "output_type": "stream",
     "text": [
      "['order item 1 - $ 6.0\\n', 'order item 2 - $ 21.5\\n', 'Total = $ 27.5\\n', 'order item 1 - $ 1.0\\n', 'order item 2 - $ 2.5\\n', 'Total = $ 3.5\\n', 'order item 1 - $ 6.0\\n', 'order item 2 - $ 21.5\\n', 'Total = $ 27.5\\n']\n"
     ]
    }
   ],
   "source": [
    "## Reading ALL the lines in a loop into a list\n",
    "def read_dollar_menu(file_name):\n",
    "    content = []\n",
    "    # open the file\n",
    "    with open(file_name, 'r') as file:\n",
    "        content = file.readlines() # read all lines and assign result to list\n",
    "    return content\n",
    "    # print the list\n",
    "def main():\n",
    "    file_name = 'sales.txt'\n",
    "    content = read_dollar_menu(file_name)\n",
    "    print(content)\n",
    "\n",
    "main()\n",
    "    # close the file"
   ]
  },
  {
   "cell_type": "code",
   "execution_count": 14,
   "metadata": {},
   "outputs": [
    {
     "name": "stdout",
     "output_type": "stream",
     "text": [
      "['order item 1 - $ 6.0', 'order item 2 - $ 21.5', 'Total = $ 27.5', 'order item 1 - $ 1.0', 'order item 2 - $ 2.5', 'Total = $ 3.5', 'order item 1 - $ 6.0', 'order item 2 - $ 21.5', 'Total = $ 27.5', '']\n"
     ]
    }
   ],
   "source": [
    "## Strip newline caracters from each menu line\n",
    "def read_dollar_menu(file_name):\n",
    "    content = []\n",
    "    # open the file\n",
    "    with open(file_name, 'r') as file:\n",
    "        txt = file.read()\n",
    "        content = txt.split('\\n')\n",
    "    return content\n",
    "    # print the list\n",
    "def main():\n",
    "    file_name = 'sales.txt'\n",
    "    content = read_dollar_menu(file_name)\n",
    "    print(content)\n",
    "main()\n",
    "    # close the file"
   ]
  },
  {
   "cell_type": "code",
   "execution_count": 16,
   "metadata": {},
   "outputs": [
    {
     "name": "stdout",
     "output_type": "stream",
     "text": [
      "<class 'str'> order item 1 - $ 6.0\n",
      "\n",
      "<class 'str'> order item 2 - $ 21.5\n",
      "\n",
      "<class 'str'> Total = $ 27.5\n",
      "\n",
      "<class 'str'> order item 1 - $ 1.0\n",
      "\n",
      "<class 'str'> order item 2 - $ 2.5\n",
      "\n",
      "<class 'str'> Total = $ 3.5\n",
      "\n",
      "<class 'str'> order item 1 - $ 6.0\n",
      "\n",
      "<class 'str'> order item 2 - $ 21.5\n",
      "\n",
      "<class 'str'> Total = $ 27.5\n",
      "\n"
     ]
    }
   ],
   "source": [
    "def read_dollar_menu(file_name):\n",
    "    content = []\n",
    "    # open the file\n",
    "    with open(file_name, 'r') as file:\n",
    "        content = file.readlines() # read all lines and assign result to list\n",
    "    return content\n",
    "    # print the list\n",
    "def main():\n",
    "    file_name = 'sales.txt'\n",
    "    content = read_dollar_menu(file_name)\n",
    "    for line in content:\n",
    "        print(type(line), line)\n",
    "\n",
    "main()\n",
    "    # close the file"
   ]
  },
  {
   "cell_type": "markdown",
   "metadata": {},
   "source": [
    "**Reading schedule.txt**\n",
    "\n",
    "We'll also need to be able to read our schedule file back into a dictionary. \n",
    "\n",
    "Right now our schedule.txt file looks like this:\n",
    "\n",
    "    Ventriloquism - 9:00am\n",
    "\n",
    "    Snake Charmer - 12:00pm\n",
    "\n",
    "    Amazing Acrobatics - 2:00pm\n",
    "\n",
    "    Enchanted Elephants - 5:00pm\n",
    "\n",
    "After we open the file, we'll want to read each line from the file in a for loop.\n",
    "\n",
    "Let's use the variable name line in our for loop.\n",
    "\n",
    "Then, inside of that for loop, print out the contents of the line variable.\n",
    "\n",
    "Finally, before we forget, let's close our file outside of the for loop."
   ]
  },
  {
   "cell_type": "code",
   "execution_count": 31,
   "metadata": {},
   "outputs": [
    {
     "name": "stdout",
     "output_type": "stream",
     "text": [
      "['Ventriloquism - 9:00am\\n', 'Snake Charmer - 12:00pm\\n', 'Amazing Acrobatics - 2:00pm\\n', 'Enchanted Elephants - 5:00pm\\n']\n"
     ]
    }
   ],
   "source": [
    "## Reading schedule.txt\n",
    "\n",
    "def read_file(file_name):\n",
    "    content = []\n",
    "    # open the file\n",
    "    with open(file_name, 'r') as file:\n",
    "        content = file.readlines()\n",
    "    return content\n",
    "\n",
    "def main():\n",
    "    file_name = 'schedule.txt'\n",
    "    content = read_file(file_name)\n",
    "    print(content)\n",
    "main()\n"
   ]
  },
  {
   "cell_type": "code",
   "execution_count": 32,
   "metadata": {},
   "outputs": [
    {
     "name": "stdout",
     "output_type": "stream",
     "text": [
      "Ventriloquism 9:00am\n",
      "\n",
      "Snake Charmer 12:00pm\n",
      "\n",
      "Amazing Acrobatics 2:00pm\n",
      "\n",
      "Enchanted Elephants 5:00pm\n",
      "\n"
     ]
    }
   ],
   "source": [
    "## Assign the show name and time directly to a key-value pair labeled (show, time). \n",
    "## Set (show, time) equal to the output of the line.split() function, and pass in ' - ' as a parameter to the split() function.\n",
    "## Print show and time instead of just line.\n",
    "\n",
    "def read_file(file_name):\n",
    "    content = []\n",
    "    # open the file\n",
    "    with open(file_name, 'r') as file:\n",
    "        content = file.readlines()\n",
    "    return content\n",
    "\n",
    "def main():\n",
    "    file_name = 'schedule.txt'\n",
    "    content = read_file(file_name)\n",
    "    for line in content:\n",
    "        show, time = line.split(' - ')\n",
    "        print(show, time)\n",
    "main()"
   ]
  },
  {
   "cell_type": "code",
   "execution_count": 44,
   "metadata": {},
   "outputs": [
    {
     "name": "stdout",
     "output_type": "stream",
     "text": [
      "{'Ventriloquism': '9:00am', 'Snake Charmer': '12:00pm', 'Amazing Acrobatics': '2:00pm', 'Enchanted Elephants': '5:00pm'}\n"
     ]
    }
   ],
   "source": [
    "## Save the show and time in a performances dictionary, use the key show and the value time.\n",
    "## Print it to see if it looks right\n",
    "## Get rid of newline characters\n",
    "performances = {}\n",
    "\n",
    "def read_file(file_name):\n",
    "    content = []\n",
    "    # open the file\n",
    "    with open(file_name, 'r') as file:\n",
    "        content = file.readlines()\n",
    "    return content\n",
    "\n",
    "def main():\n",
    "    file_name = 'schedule.txt'\n",
    "    content = read_file(file_name)\n",
    "    for line in content:\n",
    "        show, time = line.split(' - ')\n",
    "        performances[show] = time[:-1]\n",
    "    print(performances)\n",
    "    \n",
    "main()"
   ]
  },
  {
   "cell_type": "markdown",
   "metadata": {},
   "source": [
    "**Exceptions**\n",
    "\n",
    "If we try to read a file that does not exist we get a **FileNotFoundError** and this error will cause our program to crash\n",
    "\n",
    "It would be great if we could recover from this type of error and continue with our program\n",
    "\n",
    "**Try except** allows us to do just that"
   ]
  },
  {
   "cell_type": "code",
   "execution_count": 37,
   "metadata": {},
   "outputs": [
    {
     "name": "stdout",
     "output_type": "stream",
     "text": [
      "File does not exit\n",
      "*\n"
     ]
    }
   ],
   "source": [
    "## Anything we put in the Try block catch errors so we can avoid a program crash\n",
    "## Opening a file is potencially error prone code\n",
    "\n",
    "try: # try this\n",
    "    file = open('sales.txt', 'r')\n",
    "    print(file.read())\n",
    "except: # if you get an error\n",
    "    print('File does not exit') # print the error message \n",
    "# then continue with the program as usual\n",
    "print('*')"
   ]
  },
  {
   "cell_type": "markdown",
   "metadata": {},
   "source": [
    "**Types of Exceptions**\n",
    "\n",
    "Python has 60 and plus types of exceptions, like:\n",
    "- FileNotFoundError\n",
    "- IndexError\n",
    "- KeyError\n",
    "- NameError\n",
    "- ValueError\n",
    "\n",
    "You can find all of the types of Python 3 exception at http://go.codeschool.com/python-exceptions"
   ]
  },
  {
   "cell_type": "code",
   "execution_count": 47,
   "metadata": {},
   "outputs": [
    {
     "name": "stdout",
     "output_type": "stream",
     "text": [
      "price =  2.0\n",
      "Other error 'dd' <class 'KeyError'>\n",
      "next line\n"
     ]
    }
   ],
   "source": [
    "## A ValueError can occur when you try to convert a string to number\n",
    "## and the string actually contain a word instead of a number \n",
    "\n",
    "price = input('Enter the price: ')\n",
    "try:\n",
    "    price = float(price)\n",
    "    print('price = ', price)\n",
    "\n",
    "    x = {'a': 'd'}\n",
    "    print(x['dd'])\n",
    "except ValueError as exception:\n",
    "    print('Not a number', exception, type(exception))\n",
    "except KeyError as exception:\n",
    "    print('Other error', exception, type(exception))\n",
    "except Exception as e:\n",
    "    print('exception', e, type(e))    \n",
    "\n",
    "print('next line')"
   ]
  },
  {
   "cell_type": "code",
   "execution_count": 49,
   "metadata": {},
   "outputs": [
    {
     "name": "stdout",
     "output_type": "stream",
     "text": [
      "Not a number could not convert string to float: 'e' <class 'ValueError'>\n",
      "could not convert string to float: 'e'\n",
      "next line\n"
     ]
    }
   ],
   "source": [
    "## Capture the exception's error message\n",
    "\n",
    "price = input('Enter the price: ')\n",
    "try:\n",
    "    price = float(price)\n",
    "    print('price = ', price)\n",
    "\n",
    "    x = {'a': 'd'}\n",
    "    print(x['dd'])\n",
    "except ValueError as exception:\n",
    "    err = exception\n",
    "    print('Not a number', exception, type(exception))\n",
    "except KeyError as exception:\n",
    "    err = exception\n",
    "    print('Other error', exception, type(exception))\n",
    "except Exception as e:\n",
    "    err = e\n",
    "    print('exception', e, type(e))    \n",
    "\n",
    "print(err)\n",
    "print('next line')"
   ]
  },
  {
   "cell_type": "markdown",
   "metadata": {},
   "source": [
    "**Try, Except, Succeed**\n",
    "\n",
    "If for some reason we try to read our schedule.txt file and it doesn't exist, our program will crash. \n",
    "\n",
    "Let's fix this by adding exception handling to our schedule reader program."
   ]
  },
  {
   "cell_type": "code",
   "execution_count": 52,
   "metadata": {},
   "outputs": [
    {
     "name": "stdout",
     "output_type": "stream",
     "text": [
      "[Errno 2] No such file or directory: 'schedules.txt'\n"
     ]
    }
   ],
   "source": [
    "## First, let's wrap the line of code that opens our file inside a try block.\n",
    "## Then, after the try block we need an except block, or our program won't run. \n",
    "## Inside our except block let's print File doesn't exist.\n",
    "## In the except: line, let's also check for a specific FileNotFoundError and save it into a variable called err.\n",
    "## Finally, let's just print err instead of File doesn't exist.\n",
    "\n",
    "performances = {}\n",
    "\n",
    "try:\n",
    "\n",
    "    schedule_file = open('schedules.txt', 'r')\n",
    "\n",
    "    for line in schedule_file:\n",
    "        (show, time) = line.split(' - ')\n",
    "        performances[show] = time\n",
    "\n",
    "    schedule_file.close()\n",
    "    print(performances)\n",
    "\n",
    "# except:\n",
    "#     print(\"File doesn't exist\")\n",
    "\n",
    "except FileNotFoundError as err:\n",
    "    print(err)"
   ]
  }
 ],
 "metadata": {
  "kernelspec": {
   "display_name": "Python 3.9.5 64-bit",
   "language": "python",
   "name": "python3"
  },
  "language_info": {
   "codemirror_mode": {
    "name": "ipython",
    "version": 3
   },
   "file_extension": ".py",
   "mimetype": "text/x-python",
   "name": "python",
   "nbconvert_exporter": "python",
   "pygments_lexer": "ipython3",
   "version": "3.9.5"
  },
  "orig_nbformat": 4,
  "vscode": {
   "interpreter": {
    "hash": "4ff442374353e7cd8d0b317b986b0b774c361b92b00d7ea43e4b1384f67d1c1b"
   }
  }
 },
 "nbformat": 4,
 "nbformat_minor": 2
}
