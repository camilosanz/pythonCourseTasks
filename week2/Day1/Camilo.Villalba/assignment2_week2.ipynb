{
 "cells": [
  {
   "cell_type": "markdown",
   "metadata": {},
   "source": [
    "**Week 2 - Assigment 2**"
   ]
  },
  {
   "cell_type": "code",
   "execution_count": 16,
   "metadata": {},
   "outputs": [],
   "source": [
    "## Find a list of all of the names in the input string\n",
    "## For this assignment you are welcomed to use regex and research resources such a regex \"cheat sheets\" you find on the web.\n",
    "\n",
    "import re\n",
    "\n",
    "def get_names(text):\n",
    "    # YOUR CODE HERE\n",
    "    # You should write your solution here, and return your result, you can comment out or delete the\n",
    "    # NotImplementedError below.\n",
    "    names_list = re.findall(r\"\\b[A-Z]\\w+\", text)\n",
    "    print(names_list)\n",
    "    return names_list\n",
    "    # raise NotImplementedError('function get_names is not implemented')"
   ]
  },
  {
   "cell_type": "code",
   "execution_count": 17,
   "metadata": {},
   "outputs": [
    {
     "name": "stdout",
     "output_type": "stream",
     "text": [
      "['Amy', 'Mary', 'Ruth', 'Peter']\n"
     ]
    }
   ],
   "source": [
    "simple_string = \"\"\"Amy is 5 years old, and her sister Mary is 2 years old. \n",
    "    Ruth and Peter, their parents, have 3 kids.\"\"\"\n",
    "assert len(get_names(simple_string)) == 4, \"There are four names in the simple_string\""
   ]
  },
  {
   "cell_type": "code",
   "execution_count": 18,
   "metadata": {},
   "outputs": [
    {
     "name": "stdout",
     "output_type": "stream",
     "text": [
      "['Amy', 'Mary', 'Ruth', 'Peter', 'Victoria', 'Elizabeth', 'Harry']\n"
     ]
    }
   ],
   "source": [
    "simple_string = \"\"\"Amy is 5 years old, and her sister Mary is 2 years old. \n",
    "    Ruth and Peter, their parents, have 3 kids: Victoria, Elizabeth and Harry\"\"\"\n",
    "assert len(get_names(simple_string)) == 7, \"There are seven names in the simple_string\""
   ]
  }
 ],
 "metadata": {
  "kernelspec": {
   "display_name": "Python 3.9.5 64-bit",
   "language": "python",
   "name": "python3"
  },
  "language_info": {
   "codemirror_mode": {
    "name": "ipython",
    "version": 3
   },
   "file_extension": ".py",
   "mimetype": "text/x-python",
   "name": "python",
   "nbconvert_exporter": "python",
   "pygments_lexer": "ipython3",
   "version": "3.9.5"
  },
  "orig_nbformat": 4,
  "vscode": {
   "interpreter": {
    "hash": "4ff442374353e7cd8d0b317b986b0b774c361b92b00d7ea43e4b1384f67d1c1b"
   }
  }
 },
 "nbformat": 4,
 "nbformat_minor": 2
}
